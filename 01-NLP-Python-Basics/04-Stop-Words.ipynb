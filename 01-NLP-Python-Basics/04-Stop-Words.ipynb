{
 "cells": [
  {
   "cell_type": "markdown",
   "metadata": {},
   "source": [
    "___\n",
    "\n",
    "<a href='http://www.pieriandata.com'> <img src='../Pierian_Data_Logo.png' /></a>\n",
    "___"
   ]
  },
  {
   "cell_type": "markdown",
   "metadata": {},
   "source": [
    "# Stop Words\n",
    "Words like \"a\" and \"the\" appear so frequently that they don't require tagging as thoroughly as nouns, verbs and modifiers. We call these *stop words*, and they can be filtered from the text to be processed. spaCy holds a built-in list of some 305 English stop words."
   ]
  },
  {
   "cell_type": "code",
   "execution_count": 1,
   "metadata": {},
   "outputs": [],
   "source": [
    "# Perform standard imports:\n",
    "import spacy\n",
    "nlp = spacy.load('en_core_web_sm')"
   ]
  },
  {
   "cell_type": "code",
   "execution_count": 2,
   "metadata": {},
   "outputs": [
    {
     "name": "stdout",
     "output_type": "stream",
     "text": [
      "{'else', 'side', 'are', 'yourselves', 'them', 'indeed', 'own', 'thereafter', 'too', 'until', 'bottom', 'four', 'at', 'between', 'everyone', 'regarding', 'hence', 'forty', 'not', 'often', 'does', 'himself', 'meanwhile', 'move', 'you', 'third', 'without', 'itself', 'no', 'neither', 'thereupon', 'therefore', 'be', 'an', 'themselves', 'this', 'seem', 'anyhow', 'as', 'former', 'whereby', 'first', 'whether', 'against', 'how', 'within', 'it', 'could', 'none', 'into', 'most', 'however', 'due', 'might', 'must', 'sixty', 'twelve', 'while', 'next', 'they', 'becomes', 'may', 'amongst', 'eleven', 'per', 'our', 'nevertheless', 'off', 'someone', 'rather', 'below', 'hereupon', 'had', 'her', 'yours', 'during', 'a', 'either', 'than', 'elsewhere', 'since', 'what', 'whole', 'make', 'before', 'get', 'just', 'whereupon', 'another', 'anyway', 'done', 'more', 'sometimes', 'so', 'whatever', 'which', 'around', 'ours', 'for', 'beyond', 'down', 'see', 'top', 'same', 'me', 'throughout', 'using', 'now', 'whereas', 're', 'moreover', 'would', 'thus', 'many', 'call', 'we', 'along', 'other', 'when', 'much', 'were', 'name', 'where', 'yet', 'hundred', 'am', 'beside', 'after', 'nothing', 'she', 'doing', 'up', 'upon', 'various', 'well', 'already', 'did', 'always', 'became', 'others', 'say', 'full', 'wherever', 'is', 'please', 'alone', 'twenty', 'only', 'six', 'do', 'eight', 'seeming', 'somehow', 'even', 'myself', 'or', 'those', 'though', 'again', 'everything', 'show', 'his', 'some', 'these', 'who', 'back', 'why', 'part', 'front', 'if', 'mostly', 'noone', 'still', 'towards', 'become', 'least', 'really', 'becoming', 'him', 'seemed', 'behind', 'few', 'everywhere', 'perhaps', 'their', 'otherwise', 'whither', 'have', 'once', 'but', 'about', 'fifty', 'seems', 'there', 'nobody', 'thru', 'very', 'five', 'been', 'should', 'among', 'whenever', 'above', 'several', 'made', 'wherein', 'whose', 'from', 'both', 'by', 'every', 'with', 'each', 'herein', 'latter', 'thence', 'namely', 'ourselves', 'through', 'the', 'was', 'nor', 'sometime', 'ever', 'serious', 'onto', 'via', 'anything', 'amount', 'almost', 'empty', 'used', 'because', 'here', 'latterly', 'hers', 'last', 'can', 'enough', 'on', 'over', 'under', 'except', 'he', 'nowhere', 'together', 'mine', 'unless', 'besides', 'cannot', 'go', 'has', 'of', 'toward', 'ca', 'your', 'therein', 'to', 'ten', 'whereafter', 'also', 'take', 'across', 'and', 'afterwards', 'something', 'three', 'hereafter', 'in', 'nine', 'then', 'whence', 'anywhere', 'out', 'give', 'such', 'that', 'although', 'thereby', 'whoever', 'formerly', 'yourself', 'i', 'my', 'keep', 'hereby', 'herself', 'beforehand', 'less', 'any', 'one', 'being', 'all', 'quite', 'somewhere', 'us', 'put', 'will', 'fifteen', 'further', 'two', 'whom', 'anyone', 'its', 'never'}\n"
     ]
    }
   ],
   "source": [
    "# Print the set of spaCy's default stop words (remember that sets are unordered):\n",
    "print(nlp.Defaults.stop_words)"
   ]
  },
  {
   "cell_type": "code",
   "execution_count": 3,
   "metadata": {},
   "outputs": [
    {
     "data": {
      "text/plain": [
       "305"
      ]
     },
     "execution_count": 3,
     "metadata": {},
     "output_type": "execute_result"
    }
   ],
   "source": [
    "len(nlp.Defaults.stop_words)"
   ]
  },
  {
   "cell_type": "markdown",
   "metadata": {},
   "source": [
    "## To see if a word is a stop word"
   ]
  },
  {
   "cell_type": "code",
   "execution_count": 4,
   "metadata": {},
   "outputs": [
    {
     "data": {
      "text/plain": [
       "True"
      ]
     },
     "execution_count": 4,
     "metadata": {},
     "output_type": "execute_result"
    }
   ],
   "source": [
    "nlp.vocab['myself'].is_stop"
   ]
  },
  {
   "cell_type": "code",
   "execution_count": 5,
   "metadata": {},
   "outputs": [
    {
     "data": {
      "text/plain": [
       "False"
      ]
     },
     "execution_count": 5,
     "metadata": {},
     "output_type": "execute_result"
    }
   ],
   "source": [
    "nlp.vocab['mystery'].is_stop"
   ]
  },
  {
   "cell_type": "markdown",
   "metadata": {},
   "source": [
    "## To add a stop word\n",
    "There may be times when you wish to add a stop word to the default set. Perhaps you decide that `'btw'` (common shorthand for \"by the way\") should be considered a stop word."
   ]
  },
  {
   "cell_type": "code",
   "execution_count": 6,
   "metadata": {},
   "outputs": [],
   "source": [
    "# Add the word to the set of stop words. Use lowercase!\n",
    "nlp.Defaults.stop_words.add('btw')\n",
    "\n",
    "# Set the stop_word tag on the lexeme\n",
    "nlp.vocab['btw'].is_stop = True"
   ]
  },
  {
   "cell_type": "code",
   "execution_count": 7,
   "metadata": {},
   "outputs": [
    {
     "data": {
      "text/plain": [
       "306"
      ]
     },
     "execution_count": 7,
     "metadata": {},
     "output_type": "execute_result"
    }
   ],
   "source": [
    "len(nlp.Defaults.stop_words)"
   ]
  },
  {
   "cell_type": "code",
   "execution_count": 8,
   "metadata": {},
   "outputs": [
    {
     "data": {
      "text/plain": [
       "True"
      ]
     },
     "execution_count": 8,
     "metadata": {},
     "output_type": "execute_result"
    }
   ],
   "source": [
    "nlp.vocab['btw'].is_stop"
   ]
  },
  {
   "cell_type": "markdown",
   "metadata": {},
   "source": [
    "<font color=green>When adding stop words, always use lowercase. Lexemes are converted to lowercase before being added to **vocab**.</font>"
   ]
  },
  {
   "cell_type": "markdown",
   "metadata": {},
   "source": [
    "## To remove a stop word\n",
    "Alternatively, you may decide that `'beyond'` should not be considered a stop word."
   ]
  },
  {
   "cell_type": "code",
   "execution_count": 9,
   "metadata": {},
   "outputs": [],
   "source": [
    "# Remove the word from the set of stop words\n",
    "nlp.Defaults.stop_words.remove('beyond')\n",
    "\n",
    "# Remove the stop_word tag from the lexeme\n",
    "nlp.vocab['beyond'].is_stop = False"
   ]
  },
  {
   "cell_type": "code",
   "execution_count": 10,
   "metadata": {},
   "outputs": [
    {
     "data": {
      "text/plain": [
       "305"
      ]
     },
     "execution_count": 10,
     "metadata": {},
     "output_type": "execute_result"
    }
   ],
   "source": [
    "len(nlp.Defaults.stop_words)"
   ]
  },
  {
   "cell_type": "code",
   "execution_count": 11,
   "metadata": {},
   "outputs": [
    {
     "data": {
      "text/plain": [
       "False"
      ]
     },
     "execution_count": 11,
     "metadata": {},
     "output_type": "execute_result"
    }
   ],
   "source": [
    "nlp.vocab['beyond'].is_stop"
   ]
  },
  {
   "cell_type": "markdown",
   "metadata": {},
   "source": [
    "Great! Now you should be able to access spaCy's default set of stop words, and add or remove stop words as needed.\n",
    "## Next up: Vocabulary and Matching"
   ]
  }
 ],
 "metadata": {
  "kernelspec": {
   "display_name": "Python 3",
   "language": "python",
   "name": "python3"
  },
  "language_info": {
   "codemirror_mode": {
    "name": "ipython",
    "version": 3
   },
   "file_extension": ".py",
   "mimetype": "text/x-python",
   "name": "python",
   "nbconvert_exporter": "python",
   "pygments_lexer": "ipython3",
   "version": "3.7.16"
  }
 },
 "nbformat": 4,
 "nbformat_minor": 2
}
